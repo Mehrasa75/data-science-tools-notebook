{
 "cells": [
  {
   "cell_type": "markdown",
   "id": "2316fb1e",
   "metadata": {},
   "source": [
    "# title\n",
    "Tools for Data Science"
   ]
  },
  {
   "cell_type": "markdown",
   "id": "257cf7f8",
   "metadata": {},
   "source": [
    "# introduction\n",
    "\n",
    "In this notebook, we explore various tools in data science. We will cover some of the key libraries and frameworks used for data manipulation, analysis, and visualization. This notebook serves as a summary of the skills and concepts learned in the \"Tools in Data Science\" course.\n"
   ]
  },
  {
   "cell_type": "markdown",
   "id": "aae866c1",
   "metadata": {},
   "source": [
    "## Data Science Languages\n",
    "\n",
    "Some of the popular languages used in data science include:\n",
    "\n",
    "- Python\n",
    "- R\n",
    "- SQL\n",
    "- Julia\n",
    "- Scala\n"
   ]
  },
  {
   "cell_type": "markdown",
   "id": "a5f7cf3d",
   "metadata": {},
   "source": [
    "## Data Science Libraries\n",
    "\n",
    "Some of the widely used libraries in data science include:\n",
    "\n",
    "- **Pandas**: for data manipulation and analysis\n",
    "- **NumPy**: for numerical computing\n",
    "- **Matplotlib** and **Seaborn**: for data visualization\n",
    "- **Scikit-learn**: for machine learning algorithms\n",
    "- **TensorFlow** and **PyTorch**: for deep learning\n",
    "- **NLTK** and **spaCy**: for natural language processing\n"
   ]
  },
  {
   "cell_type": "markdown",
   "id": "a3a8a46f",
   "metadata": {},
   "source": [
    "## Data Science Tools\n",
    "\n",
    "| Tool            | Description                               |\n",
    "|-----------------|-------------------------------------------|\n",
    "| Jupyter Notebook| An open-source web application for creating and sharing documents with live code, equations, and visualizations. |\n",
    "| RStudio         | An IDE for R, used for statistical computing and data visualization. |\n",
    "| Apache Spark    | A unified analytics engine for big data processing, with built-in modules for streaming, SQL, machine learning, and graph processing. |\n",
    "| Tableau         | A data visualization tool for transforming data into interactive dashboards. |\n"
   ]
  },
  {
   "cell_type": "markdown",
   "id": "1b7ba27d",
   "metadata": {},
   "source": [
    "## Arithmetic Expression Examples\n",
    "\n",
    "In this section, we will demonstrate basic arithmetic expressions, such as addition, subtraction, multiplication, and division, using Python.\n"
   ]
  },
  {
   "cell_type": "markdown",
   "id": "cddbe218",
   "metadata": {},
   "source": [
    "# Multiply and add numbers\n",
    "result = (3 * 4) + 5\n",
    "result\n"
   ]
  },
  {
   "cell_type": "code",
   "execution_count": 1,
   "id": "a980885f",
   "metadata": {},
   "outputs": [
    {
     "data": {
      "text/plain": [
       "2.0"
      ]
     },
     "execution_count": 1,
     "metadata": {},
     "output_type": "execute_result"
    }
   ],
   "source": [
    "# Function to convert minutes to hours\n",
    "def minutes_to_hours(minutes):\n",
    "    hours = minutes / 60\n",
    "    return hours\n",
    "\n",
    "# Example: Convert 120 minutes to hours\n",
    "result = minutes_to_hours(120)\n",
    "result\n"
   ]
  },
  {
   "cell_type": "code",
   "execution_count": 2,
   "id": "9300f395",
   "metadata": {},
   "outputs": [
    {
     "ename": "SyntaxError",
     "evalue": "invalid syntax (633316068.py, line 3)",
     "output_type": "error",
     "traceback": [
      "\u001b[1;36m  Cell \u001b[1;32mIn[2], line 3\u001b[1;36m\u001b[0m\n\u001b[1;33m    The main objectives of this notebook are:\u001b[0m\n\u001b[1;37m        ^\u001b[0m\n\u001b[1;31mSyntaxError\u001b[0m\u001b[1;31m:\u001b[0m invalid syntax\n"
     ]
    }
   ],
   "source": [
    "## Objectives\n",
    "\n",
    "The main objectives of this notebook are:\n",
    "\n",
    "- To explore and understand various data science languages and libraries.\n",
    "- To demonstrate the use of arithmetic operations in Python.\n",
    "- To illustrate how to convert time measurements (minutes to hours) using Python functions.\n",
    "- To familiarize with the Jupyter Notebook interface and markdown formatting.\n"
   ]
  },
  {
   "cell_type": "code",
   "execution_count": 3,
   "id": "38cfbc0e",
   "metadata": {},
   "outputs": [
    {
     "ename": "SyntaxError",
     "evalue": "invalid syntax (1868691237.py, line 3)",
     "output_type": "error",
     "traceback": [
      "\u001b[1;36m  Cell \u001b[1;32mIn[3], line 3\u001b[1;36m\u001b[0m\n\u001b[1;33m    This notebook was created by **[Mehrasa Kazemi Abdolmaleki]**.\u001b[0m\n\u001b[1;37m         ^\u001b[0m\n\u001b[1;31mSyntaxError\u001b[0m\u001b[1;31m:\u001b[0m invalid syntax\n"
     ]
    }
   ],
   "source": [
    "## Author\n",
    "\n",
    "This notebook was created by **[Mehrasa Kazemi Abdolmaleki]**.\n"
   ]
  },
  {
   "cell_type": "code",
   "execution_count": null,
   "id": "c46f6a1e",
   "metadata": {},
   "outputs": [],
   "source": []
  }
 ],
 "metadata": {
  "kernelspec": {
   "display_name": "Python 3",
   "language": "python",
   "name": "python3"
  },
  "language_info": {
   "codemirror_mode": {
    "name": "ipython",
    "version": 3
   },
   "file_extension": ".py",
   "mimetype": "text/x-python",
   "name": "python",
   "nbconvert_exporter": "python",
   "pygments_lexer": "ipython3",
   "version": "3.11.5"
  }
 },
 "nbformat": 4,
 "nbformat_minor": 5
}
